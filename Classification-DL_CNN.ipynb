{
 "cells": [
  {
   "cell_type": "code",
   "execution_count": 1,
   "metadata": {
    "execution": {
     "iopub.execute_input": "2020-10-24T01:46:51.506956Z",
     "iopub.status.busy": "2020-10-24T01:46:51.506722Z",
     "iopub.status.idle": "2020-10-24T01:46:51.517942Z",
     "shell.execute_reply": "2020-10-24T01:46:51.517497Z",
     "shell.execute_reply.started": "2020-10-24T01:46:51.506913Z"
    }
   },
   "outputs": [
    {
     "data": {
      "text/plain": [
       "'\\nCreated on Thu May 17 21:01:53 2018\\n\\n@author: Winham\\n\\n===================基于1维CNN的ECG分类算法========================\\n\\n*需要第三方工具包numpy,h5py,scikit-learn\\n*基于深度学习框架TensorFlow\\n*涉及函数的使用方法可自行查看工具包文档，baidu即可得\\n*ECG算法入门系列博客：https://blog.csdn.net/qq_15746879\\n*开源github：https://github.com/Aiwiscal\\n\\n*本代码所需要的数据和标签文件来自matlab提取\\n*详情：https://blog.csdn.net/qq_15746879/article/details/80340958\\n==================================================================\\n'"
      ]
     },
     "execution_count": 1,
     "metadata": {},
     "output_type": "execute_result"
    }
   ],
   "source": [
    "\"\"\"\n",
    "Created on Thu May 17 21:01:53 2018\n",
    "\n",
    "@author: Winham\n",
    "\n",
    "===================基于1维CNN的ECG分类算法========================\n",
    "\n",
    "*需要第三方工具包numpy,h5py,scikit-learn\n",
    "*基于深度学习框架TensorFlow\n",
    "*涉及函数的使用方法可自行查看工具包文档，baidu即可得\n",
    "*ECG算法入门系列博客：https://blog.csdn.net/qq_15746879\n",
    "*开源github：https://github.com/Aiwiscal\n",
    "\n",
    "*本代码所需要的数据和标签文件来自matlab提取\n",
    "*详情：https://blog.csdn.net/qq_15746879/article/details/80340958\n",
    "==================================================================\n",
    "\"\"\""
   ]
  },
  {
   "cell_type": "code",
   "execution_count": 2,
   "metadata": {
    "execution": {
     "iopub.execute_input": "2020-10-24T01:46:51.520871Z",
     "iopub.status.busy": "2020-10-24T01:46:51.520548Z",
     "iopub.status.idle": "2020-10-24T01:46:51.615310Z",
     "shell.execute_reply": "2020-10-24T01:46:51.614673Z",
     "shell.execute_reply.started": "2020-10-24T01:46:51.520846Z"
    }
   },
   "outputs": [],
   "source": [
    "import time\n",
    "import numpy as np\n",
    "import h5py as hp"
   ]
  },
  {
   "cell_type": "markdown",
   "metadata": {},
   "source": [
    "* [attributeerror-module-tensorflow-has-no-attribute-interactivesession](https://stackoverflow.com/questions/41333798/attributeerror-module-tensorflow-has-no-attribute-interactivesession)\n",
    "* [issue14](https://github.com/theislab/scgen/issues/14)"
   ]
  },
  {
   "cell_type": "code",
   "execution_count": 3,
   "metadata": {
    "execution": {
     "iopub.execute_input": "2020-10-24T01:46:51.616786Z",
     "iopub.status.busy": "2020-10-24T01:46:51.616609Z",
     "iopub.status.idle": "2020-10-24T01:46:53.268542Z",
     "shell.execute_reply": "2020-10-24T01:46:53.267982Z",
     "shell.execute_reply.started": "2020-10-24T01:46:51.616764Z"
    }
   },
   "outputs": [
    {
     "name": "stdout",
     "output_type": "stream",
     "text": [
      "WARNING:tensorflow:From /opt/conda/lib/python3.8/site-packages/tensorflow/python/compat/v2_compat.py:96: disable_resource_variables (from tensorflow.python.ops.variable_scope) is deprecated and will be removed in a future version.\n",
      "Instructions for updating:\n",
      "non-resource variables are not supported in the long term\n"
     ]
    }
   ],
   "source": [
    "import tensorflow.compat.v1 as tf\n",
    "tf.disable_v2_behavior() \n",
    "from sklearn.metrics import confusion_matrix"
   ]
  },
  {
   "cell_type": "code",
   "execution_count": 4,
   "metadata": {
    "execution": {
     "iopub.execute_input": "2020-10-24T01:46:53.271320Z",
     "iopub.status.busy": "2020-10-24T01:46:53.271141Z",
     "iopub.status.idle": "2020-10-24T01:46:53.278947Z",
     "shell.execute_reply": "2020-10-24T01:46:53.278391Z",
     "shell.execute_reply.started": "2020-10-24T01:46:53.271300Z"
    }
   },
   "outputs": [],
   "source": [
    "sess=tf.InteractiveSession()"
   ]
  },
  {
   "cell_type": "code",
   "execution_count": 5,
   "metadata": {
    "execution": {
     "iopub.execute_input": "2020-10-24T01:46:53.279725Z",
     "iopub.status.busy": "2020-10-24T01:46:53.279569Z",
     "iopub.status.idle": "2020-10-24T01:46:53.283518Z",
     "shell.execute_reply": "2020-10-24T01:46:53.282903Z",
     "shell.execute_reply.started": "2020-10-24T01:46:53.279704Z"
    }
   },
   "outputs": [],
   "source": [
    "def load_mat(path_data,name_data,dtype='float32'):\n",
    "    \"\"\"\n",
    "    载入.mat文件的函数,h5py解码并转换为numpy数组\n",
    "    \"\"\"\n",
    "    data=hp.File(path_data)\n",
    "    arrays_d={}\n",
    "    for k,v in data.items():\n",
    "        arrays_d[k]=np.array(v)\n",
    "    dataArr=np.array(arrays_d[name_data],dtype=dtype)\n",
    "    return dataArr"
   ]
  },
  {
   "cell_type": "code",
   "execution_count": 6,
   "metadata": {
    "execution": {
     "iopub.execute_input": "2020-10-24T01:46:53.284488Z",
     "iopub.status.busy": "2020-10-24T01:46:53.284299Z",
     "iopub.status.idle": "2020-10-24T01:46:53.289718Z",
     "shell.execute_reply": "2020-10-24T01:46:53.289125Z",
     "shell.execute_reply.started": "2020-10-24T01:46:53.284468Z"
    }
   },
   "outputs": [],
   "source": [
    "def CNNnet(inputs,n_class):\n",
    "    \"\"\"\n",
    "    使用TensorFlow组件完成CNN网络的搭建，与教程中参数略有不同\n",
    "    \"\"\"\n",
    "    \n",
    "    conv1 = tf.layers.conv1d(inputs=inputs, filters=4, kernel_size=31, strides=1, \\\n",
    "                             padding='same', activation = tf.nn.relu)\n",
    "    avg_pool_1 = tf.layers.average_pooling1d(inputs=conv1, pool_size=5, strides=5, \\\n",
    "                                         padding='same')\n",
    "    conv2 = tf.layers.conv1d(inputs=avg_pool_1, filters=8, kernel_size=6, strides=1,\\\n",
    "                             padding='same', activation = tf.nn.relu)\n",
    "    avg_pool_2 = tf.layers.average_pooling1d(inputs=conv2, pool_size=5, strides=5,\\\n",
    "                                         padding='same')\n",
    "    \n",
    "    flat = tf.reshape(avg_pool_2, (-1, int(250/5/5*8)))\n",
    "    \n",
    "    logits=tf.layers.dense(inputs=flat, units=n_class, activation=None)\n",
    "    logits=tf.nn.softmax(logits)\n",
    "    return logits"
   ]
  },
  {
   "cell_type": "code",
   "execution_count": 7,
   "metadata": {
    "execution": {
     "iopub.execute_input": "2020-10-24T01:46:53.290627Z",
     "iopub.status.busy": "2020-10-24T01:46:53.290464Z",
     "iopub.status.idle": "2020-10-24T01:46:53.294324Z",
     "shell.execute_reply": "2020-10-24T01:46:53.293711Z",
     "shell.execute_reply.started": "2020-10-24T01:46:53.290607Z"
    }
   },
   "outputs": [],
   "source": [
    "def get_batch(train_x,train_y,batch_size):\n",
    "    \"\"\"\n",
    "    随机获取一个batch大小的数据，用于训练\n",
    "    \"\"\"\n",
    "    indices=np.random.choice(train_x.shape[0],batch_size,False)\n",
    "    batch_x=train_x[indices]\n",
    "    batch_y=train_y[indices]\n",
    "    return batch_x,batch_y"
   ]
  }
 ],
 "metadata": {
  "kernelspec": {
   "display_name": "Python 3",
   "language": "python",
   "name": "python3"
  },
  "language_info": {
   "codemirror_mode": {
    "name": "ipython",
    "version": 3
   },
   "file_extension": ".py",
   "mimetype": "text/x-python",
   "name": "python",
   "nbconvert_exporter": "python",
   "pygments_lexer": "ipython3",
   "version": "3.8.6"
  }
 },
 "nbformat": 4,
 "nbformat_minor": 4
}
